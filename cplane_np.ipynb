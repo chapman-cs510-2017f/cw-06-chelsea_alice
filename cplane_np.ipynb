{
 "cells": [
  {
   "cell_type": "code",
   "execution_count": 1,
   "metadata": {
    "collapsed": false
   },
   "outputs": [
    {
     "name": "stdout",
     "output_type": "stream",
     "text": [
      "init fx\n",
      "[[ 10.0+2.j  10.0+5.j  10.0+8.j]\n",
      " [ 12.5+2.j  12.5+5.j  12.5+8.j]\n",
      " [ 15.0+2.j  15.0+5.j  15.0+8.j]]\n",
      "apply fx\n",
      "[[  96.00 +40.j   75.00+100.j   36.00+160.j]\n",
      " [ 152.25 +50.j  131.25+125.j   92.25+200.j]\n",
      " [ 221.00 +60.j  200.00+150.j  161.00+240.j]]\n",
      "apply fx\n",
      "[[  98.00 +40.j   77.00+100.j   38.00+160.j]\n",
      " [ 154.25 +50.j  133.25+125.j   94.25+200.j]\n",
      " [ 223.00 +60.j  202.00+150.j  163.00+240.j]]\n",
      "zoom fx\n",
      "[[  5.0 +5.j    5.0 +7.5j   5.0+10.j ]\n",
      " [  7.5 +5.j    7.5 +7.5j   7.5+10.j ]\n",
      " [ 10.0 +5.j   10.0 +7.5j  10.0+10.j ]]\n",
      "apply fx\n",
      "[[  0.00 +50.j  -31.25 +75.j  -75.00+100.j ]\n",
      " [ 31.25 +75.j    0.00+112.5j -43.75+150.j ]\n",
      " [ 75.00+100.j   43.75+150.j    0.00+200.j ]]\n",
      "apply fx\n",
      "[[  2.00 +50.j  -29.25 +75.j  -73.00+100.j ]\n",
      " [ 33.25 +75.j    2.00+112.5j -41.75+150.j ]\n",
      " [ 77.00+100.j   45.75+150.j    2.00+200.j ]]\n",
      "refresh fx\n",
      "[[  5.0 +5.j    5.0 +7.5j   5.0+10.j ]\n",
      " [  7.5 +5.j    7.5 +7.5j   7.5+10.j ]\n",
      " [ 10.0 +5.j   10.0 +7.5j  10.0+10.j ]]\n"
     ]
    }
   ],
   "source": [
    "from cplane_np import *\n",
    "import abscplane\n",
    "from abc import ABC, abstractmethod\n",
    "from matplotlib import pyplot\n",
    "#test\n",
    "a = ArrayComplexPlane(xmin = 10, xmax = 15, xlen =  3,ymin =2, ymax = 8, ylen = 3)\n",
    "ff = lambda x: x**2\n",
    "f2 = lambda x: x+2\n",
    "a.apply(ff)\n",
    "a.apply(f2)\n",
    "a.zoom(newxmin = 5, newxmax = 10, newxlen =  3,newymin =5, newymax = 10, newylen = 3)\n",
    "a.refresh()"
   ]
  },
  {
   "cell_type": "code",
   "execution_count": 2,
   "metadata": {
    "collapsed": false
   },
   "outputs": [
    {
     "name": "stdout",
     "output_type": "stream",
     "text": [
      "init fx\n",
      "[[ 10.0+2.j  10.0+5.j  10.0+8.j]\n",
      " [ 12.5+2.j  12.5+5.j  12.5+8.j]\n",
      " [ 15.0+2.j  15.0+5.j  15.0+8.j]]\n",
      "apply fx\n",
      "[[  96.00 +40.j   75.00+100.j   36.00+160.j]\n",
      " [ 152.25 +50.j  131.25+125.j   92.25+200.j]\n",
      " [ 221.00 +60.j  200.00+150.j  161.00+240.j]]\n",
      "zoom fx\n",
      "[[  5.0 +5.j    5.0 +7.5j   5.0+10.j ]\n",
      " [  7.5 +5.j    7.5 +7.5j   7.5+10.j ]\n",
      " [ 10.0 +5.j   10.0 +7.5j  10.0+10.j ]]\n",
      "apply fx\n",
      "[[  0.00 +50.j  -31.25 +75.j  -75.00+100.j ]\n",
      " [ 31.25 +75.j    0.00+112.5j -43.75+150.j ]\n",
      " [ 75.00+100.j   43.75+150.j    0.00+200.j ]]\n",
      "refresh fx\n",
      "[[  5.0 +5.j    5.0 +7.5j   5.0+10.j ]\n",
      " [  7.5 +5.j    7.5 +7.5j   7.5+10.j ]\n",
      " [ 10.0 +5.j   10.0 +7.5j  10.0+10.j ]]\n"
     ]
    }
   ],
   "source": [
    "import test_cplane_np\n",
    "test_cplane_np.test_cplane_np()\n"
   ]
  },
  {
   "cell_type": "code",
   "execution_count": 0,
   "metadata": {
    "collapsed": false
   },
   "outputs": [
   ],
   "source": [
   ]
  }
 ],
 "metadata": {
  "kernelspec": {
   "display_name": "Python 3 (Anaconda)",
   "language": "python",
   "name": "anaconda3"
  },
  "language_info": {
   "codemirror_mode": {
    "name": "ipython",
    "version": 3
   },
   "file_extension": ".py",
   "mimetype": "text/x-python",
   "name": "python",
   "nbconvert_exporter": "python",
   "pygments_lexer": "ipython3",
   "version": "3.5.4"
  }
 },
 "nbformat": 4,
 "nbformat_minor": 0
}