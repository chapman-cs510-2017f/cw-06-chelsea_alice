{
 "cells": [
  {
   "cell_type": "code",
   "execution_count": 1,
   "metadata": {
    "collapsed": false
   },
   "outputs": [
    {
     "name": "stdout",
     "output_type": "stream",
     "text": [
      "init fx\n",
      "[0 2 4 0 2 4 0 2 4]\n",
      "[0 0 0 1 1 1 2 2 2]\n",
      "[ 0. +0.j  0. +0.j  0. +0.j  0. +6.j  0. +6.j  0. +6.j  0.+12.j  0.+12.j\n",
      "  0.+12.j]\n",
      "[ 10.0 +0.j  12.5 +0.j  15.0 +0.j  10.0 +6.j  12.5 +6.j  15.0 +6.j\n",
      "  10.0+12.j  12.5+12.j  15.0+12.j]\n",
      "apply fx\n",
      "[ 100.00  +0.j  156.25  +0.j  225.00  +0.j   64.00+120.j  120.25+150.j\n",
      "  189.00+180.j  -44.00+240.j   12.25+300.j   81.00+360.j]\n",
      "apply fx\n",
      "[ 102.00  +0.j  158.25  +0.j  227.00  +0.j   66.00+120.j  122.25+150.j\n",
      "  191.00+180.j  -42.00+240.j   14.25+300.j   83.00+360.j]\n",
      "zoom fx\n",
      "[0 2 4 0 2 4 0 2 4]\n",
      "[0 0 0 1 1 1 2 2 2]\n",
      "[ 0. +0.j   0. +0.j   0. +0.j   0.+12.5j  0.+12.5j  0.+12.5j  0.+25.j\n",
      "  0.+25.j   0.+25.j ]\n",
      "[  5.0 +0.j    7.5 +0.j   10.0 +0.j    5.0+12.5j   7.5+12.5j  10.0+12.5j\n",
      "   5.0+25.j    7.5+25.j   10.0+25.j ]\n",
      "apply fx\n",
      "[  25.00  +0.j    56.25  +0.j   100.00  +0.j  -131.25+125.j  -100.00+187.5j\n",
      "  -56.25+250.j  -600.00+250.j  -568.75+375.j  -525.00+500.j ]\n",
      "apply fx\n",
      "[  27.00  +0.j    58.25  +0.j   102.00  +0.j  -129.25+125.j   -98.00+187.5j\n",
      "  -54.25+250.j  -598.00+250.j  -566.75+375.j  -523.00+500.j ]\n",
      "refresh fx\n",
      "[0 2 4 0 2 4 0 2 4]\n",
      "[0 0 0 1 1 1 2 2 2]\n",
      "[ 0. +0.j   0. +0.j   0. +0.j   0.+12.5j  0.+12.5j  0.+12.5j  0.+25.j\n",
      "  0.+25.j   0.+25.j ]\n",
      "[  5.0 +0.j    7.5 +0.j   10.0 +0.j    5.0+12.5j   7.5+12.5j  10.0+12.5j\n",
      "   5.0+25.j    7.5+25.j   10.0+25.j ]\n"
     ]
    }
   ],
   "source": [
    "from cplane_np import *\n",
    "import abscplane\n",
    "from abc import ABC, abstractmethod\n",
    "from matplotlib import pyplot\n",
    "#test\n",
    "a = ListComplexPlane(xmin = 10, xmax = 15, xlen =  3,ymin =2, ymax = 8, ylen = 3)\n",
    "ff = lambda x: x**2\n",
    "f2 = lambda x: x+2\n",
    "a.apply(ff)\n",
    "a.apply(f2)\n",
    "a.zoom(newxmin = 5, newxmax = 10, newxlen =  3,newymin =5, newymax = 10, newylen = 3)\n",
    "a.refresh()"
   ]
  }
 ],
 "metadata": {
  "kernelspec": {
   "display_name": "Python 3 (Anaconda)",
   "language": "python",
   "name": "anaconda3"
  },
  "language_info": {
   "codemirror_mode": {
    "name": "ipython",
    "version": 3
   },
   "file_extension": ".py",
   "mimetype": "text/x-python",
   "name": "python",
   "nbconvert_exporter": "python",
   "pygments_lexer": "ipython3",
   "version": "3.5.4"
  }
 },
 "nbformat": 4,
 "nbformat_minor": 0
}