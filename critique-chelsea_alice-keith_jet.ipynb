{
 "cells": [
  {
   "cell_type": "markdown",
   "metadata": {
    "collapsed": false
   },
   "source": [
    "# Critique\n",
    "Is it clear how the code is organized? Is the code properly documented with both docstrings and supplementary comments according to industry standards? Can you follow the algorithm of the code, i.e., what it is doing, and how? Do you see any suggestions for how to improve the code? Discuss your critique with the members of the other group.\n",
    "* good doc strings and inline comments in the init\n",
    "* great  organization of code and  clarity\n",
    "* use  elegant solutions like list comprehension\n",
    "* thourough test script, it's easy from the function names to see what they're testing\n",
    "\n",
    "Jupyter Notebook:\n",
    "* Well structured  and formatted\n",
    "* Incredibly thourough explanation\n",
    "\n",
    "Improve code by:\n",
    "* add demonstration of non-class method functions using the self.apply() (i.e. lambda functions,  built in functions)"
   ]
  }
 ],
 "metadata": {
  "kernelspec": {
   "display_name": "Python 3 (Anaconda)",
   "language": "python",
   "name": "anaconda3"
  },
  "language_info": {
   "codemirror_mode": {
    "name": "ipython",
    "version": 3
   },
   "file_extension": ".py",
   "mimetype": "text/x-python",
   "name": "python",
   "nbconvert_exporter": "python",
   "pygments_lexer": "ipython3",
   "version": "3.5.4"
  }
 },
 "nbformat": 4,
 "nbformat_minor": 0
}